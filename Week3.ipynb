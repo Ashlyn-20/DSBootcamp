{
 "cells": [
  {
   "cell_type": "code",
   "execution_count": 2,
   "id": "52e9a76f-e723-476b-af6b-7a8354bf7756",
   "metadata": {},
   "outputs": [],
   "source": [
    "import numpy as np\n",
    "import pandas as pd\n",
    "import matplotlib.pyplot as plt\n",
    "import seaborn as sns\n",
    "import re\n",
    "from sklearn.linear_model import LogisticRegression\n",
    "from sklearn.preprocessing import StandardScaler, PolynomialFeatures, OneHotEncoder\n",
    "%matplotlib inline"
   ]
  },
  {
   "cell_type": "code",
   "execution_count": 19,
   "id": "4fa92bc1-ff82-49df-b1cc-fd34a75d9367",
   "metadata": {},
   "outputs": [],
   "source": [
    "data = pd.read_csv(\"/Users/ashlyn20/Documents/学习/NYU/DSbootcamp/Brooklyn_Bridge_Automated_Pedestrian_Counts_Demonstration_Project.csv\")"
   ]
  },
  {
   "cell_type": "markdown",
   "id": "6d4c2995-5b43-44a9-99ee-24d307189fc9",
   "metadata": {},
   "source": [
    "### 1)Filter the data to include only weekdays (Monday to Friday) and plot a line graph showing the pedestrian counts for each day of the week."
   ]
  },
  {
   "cell_type": "code",
   "execution_count": 20,
   "id": "0e55003f-2eb7-45a9-a61c-77cc6c379015",
   "metadata": {},
   "outputs": [
    {
     "data": {
      "image/png": "[encoded data removed]",
      "text/plain": [
       "<Figure size 720x432 with 1 Axes>"
      ]
     },
     "metadata": {
      "needs_background": "light"
     },
     "output_type": "display_data"
    }
   ],
   "source": [
    "# Convert 'hour_beginning' to datetime format\n",
    "data['hour_beginning'] = pd.to_datetime(data['hour_beginning'])\n",
    "\n",
    "# Extract the day of the week (Monday=0, Sunday=6)\n",
    "data['day_of_week'] = data['hour_beginning'].dt.dayofweek\n",
    "\n",
    "# Filter for weekdays\n",
    "data_weekdays = data[data['day_of_week'] < 5]\n",
    "\n",
    "# Aggregate pedestrian counts by day of the week\n",
    "# Summing the 'Pedestrians' column to get the total counts for each weekday\n",
    "weekday_pedestrian_counts = data_weekdays.groupby('day_of_week')['Pedestrians'].sum()\n",
    "\n",
    "# Plotting the line graph\n",
    "plt.figure(figsize=(10, 6))\n",
    "plt.plot(weekday_pedestrian_counts.index, weekday_pedestrian_counts.values, marker='o', linestyle='-')\n",
    "plt.title('Total Pedestrian Counts by Day of the Week (Weekdays)')\n",
    "plt.xlabel('Day of the Week (0=Monday, 4=Friday)')\n",
    "plt.ylabel('Total Pedestrian Count')\n",
    "plt.xticks(range(5), ['Monday', 'Tuesday', 'Wednesday', 'Thursday', 'Friday'])  # Set custom x-axis labels\n",
    "plt.grid(True)\n",
    "plt.show()"
   ]
  },
  {
   "cell_type": "markdown",
   "id": "8add3475-6fda-471d-b81b-d02259c6598e",
   "metadata": {},
   "source": [
    "### 2) Track pedestrian counts on the Brooklyn Bridge for the year 2019 and analyze how different weather conditions influence pedestrian activity in that year. Sort the pedestrian count data by weather summary to identify any correlations( with a correlation matrix) between weather patterns and pedestrian counts for the selected year.\n"
   ]
  },
  {
   "cell_type": "code",
   "execution_count": 21,
   "id": "8e9a7e31-f2d3-49b1-bfdd-fc35c1f5e730",
   "metadata": {},
   "outputs": [
    {
     "data": {
      "text/html": [
       "<div>\n",
       "<style scoped>\n",
       "    .dataframe tbody tr th:only-of-type {\n",
       "        vertical-align: middle;\n",
       "    }\n",
       "\n",
       "    .dataframe tbody tr th {\n",
       "        vertical-align: top;\n",
       "    }\n",
       "\n",
       "    .dataframe thead th {\n",
       "        text-align: right;\n",
       "    }\n",
       "</style>\n",
       "<table border=\"1\" class=\"dataframe\">\n",
       "  <thead>\n",
       "    <tr style=\"text-align: right;\">\n",
       "      <th></th>\n",
       "      <th>Pedestrians</th>\n",
       "      <th>temperature</th>\n",
       "      <th>precipitation</th>\n",
       "    </tr>\n",
       "    <tr>\n",
       "      <th>weather_summary</th>\n",
       "      <th></th>\n",
       "      <th></th>\n",
       "      <th></th>\n",
       "    </tr>\n",
       "  </thead>\n",
       "  <tbody>\n",
       "    <tr>\n",
       "      <th>partly-cloudy-day</th>\n",
       "      <td>2790868</td>\n",
       "      <td>66.173717</td>\n",
       "      <td>0.000176</td>\n",
       "    </tr>\n",
       "    <tr>\n",
       "      <th>clear-day</th>\n",
       "      <td>1953025</td>\n",
       "      <td>55.523708</td>\n",
       "      <td>0.000062</td>\n",
       "    </tr>\n",
       "    <tr>\n",
       "      <th>cloudy</th>\n",
       "      <td>984867</td>\n",
       "      <td>52.075014</td>\n",
       "      <td>0.001302</td>\n",
       "    </tr>\n",
       "    <tr>\n",
       "      <th>rain</th>\n",
       "      <td>139502</td>\n",
       "      <td>53.911038</td>\n",
       "      <td>0.056557</td>\n",
       "    </tr>\n",
       "    <tr>\n",
       "      <th>partly-cloudy-night</th>\n",
       "      <td>63794</td>\n",
       "      <td>55.425145</td>\n",
       "      <td>0.000251</td>\n",
       "    </tr>\n",
       "    <tr>\n",
       "      <th>clear-night</th>\n",
       "      <td>61815</td>\n",
       "      <td>47.605376</td>\n",
       "      <td>0.000010</td>\n",
       "    </tr>\n",
       "    <tr>\n",
       "      <th>snow</th>\n",
       "      <td>8460</td>\n",
       "      <td>31.763158</td>\n",
       "      <td>0.024713</td>\n",
       "    </tr>\n",
       "    <tr>\n",
       "      <th>fog</th>\n",
       "      <td>4673</td>\n",
       "      <td>45.454545</td>\n",
       "      <td>0.005032</td>\n",
       "    </tr>\n",
       "    <tr>\n",
       "      <th>wind</th>\n",
       "      <td>2716</td>\n",
       "      <td>51.000000</td>\n",
       "      <td>0.000575</td>\n",
       "    </tr>\n",
       "    <tr>\n",
       "      <th>sleet</th>\n",
       "      <td>1426</td>\n",
       "      <td>34.000000</td>\n",
       "      <td>0.028237</td>\n",
       "    </tr>\n",
       "  </tbody>\n",
       "</table>\n",
       "</div>"
      ],
      "text/plain": [
       "                     Pedestrians  temperature  precipitation\n",
       "weather_summary                                             \n",
       "partly-cloudy-day        2790868    66.173717       0.000176\n",
       "clear-day                1953025    55.523708       0.000062\n",
       "cloudy                    984867    52.075014       0.001302\n",
       "rain                      139502    53.911038       0.056557\n",
       "partly-cloudy-night        63794    55.425145       0.000251\n",
       "clear-night                61815    47.605376       0.000010\n",
       "snow                        8460    31.763158       0.024713\n",
       "fog                         4673    45.454545       0.005032\n",
       "wind                        2716    51.000000       0.000575\n",
       "sleet                       1426    34.000000       0.028237"
      ]
     },
     "execution_count": 21,
     "metadata": {},
     "output_type": "execute_result"
    }
   ],
   "source": [
    "# Filter for records from the year 2019\n",
    "data_2019 = data[data['hour_beginning'].dt.year == 2019]\n",
    "\n",
    "# Group by weather summary and calculate the total pedestrian counts for each weather condition\n",
    "weather_pedestrian_counts = data_2019.groupby('weather_summary')['Pedestrians'].sum().sort_values(ascending=False)\n",
    "\n",
    "# For a more detailed analysis, we'll also look at average temperature and precipitation for each weather summary\n",
    "weather_conditions = data_2019.groupby('weather_summary').agg({\n",
    "    'Pedestrians': 'sum',\n",
    "    'temperature': 'mean',\n",
    "    'precipitation': 'mean'\n",
    "}).sort_values(by='Pedestrians', ascending=False)\n",
    "\n",
    "weather_conditions"
   ]
  },
  {
   "cell_type": "markdown",
   "id": "2a4e3265-7352-4337-ad48-de022aa58b66",
   "metadata": {},
   "source": [
    "\n",
    "### 3) Implement a custom function to categorize time of day into morning, afternoon, evening, and night, and create a new column in the DataFrame to store these categories. Use this new column to analyze pedestrian activity patterns throughout the day."
   ]
  },
  {
   "cell_type": "code",
   "execution_count": 22,
   "id": "fa0dcc2f-1bc3-4853-bdc0-b27ecd7817df",
   "metadata": {},
   "outputs": [
    {
     "data": {
      "text/plain": [
       "time_of_day_category\n",
       "Morning      2480582\n",
       "Afternoon    5852025\n",
       "Evening      2432145\n",
       "Night         268114\n",
       "Name: Pedestrians, dtype: int64"
      ]
     },
     "execution_count": 22,
     "metadata": {},
     "output_type": "execute_result"
    }
   ],
   "source": [
    "# Define the custom function to categorize time of day\n",
    "def categorize_time_of_day(hour):\n",
    "    if 5 <= hour < 12:\n",
    "        return 'Morning'\n",
    "    elif 12 <= hour < 17:\n",
    "        return 'Afternoon'\n",
    "    elif 17 <= hour < 21:\n",
    "        return 'Evening'\n",
    "    else:\n",
    "        return 'Night'\n",
    "\n",
    "# Apply the function to the 'hour_beginning' column to create a new 'time_of_day_category' column\n",
    "data['time_of_day_category'] = data['hour_beginning'].dt.hour.apply(categorize_time_of_day)\n",
    "\n",
    "# Group by the new 'time_of_day_category' column and sum pedestrian counts\n",
    "time_of_day_pedestrian_counts = data.groupby('time_of_day_category')['Pedestrians'].sum()\n",
    "\n",
    "# Sorting the counts to ensure the order follows a typical day's cycle\n",
    "time_of_day_pedestrian_counts = time_of_day_pedestrian_counts.reindex(['Morning', 'Afternoon', 'Evening', 'Night'])\n",
    "\n",
    "time_of_day_pedestrian_counts\n"
   ]
  },
  {
   "cell_type": "code",
   "execution_count": null,
   "id": "631e8ebf-da5e-49ca-806b-a382f32183f6",
   "metadata": {},
   "outputs": [],
   "source": []
  }
 ],
 "metadata": {
  "kernelspec": {
   "display_name": "Python 3 (ipykernel)",
   "language": "python",
   "name": "python3"
  },
  "language_info": {
   "codemirror_mode": {
    "name": "ipython",
    "version": 3
   },
   "file_extension": ".py",
   "mimetype": "text/x-python",
   "name": "python",
   "nbconvert_exporter": "python",
   "pygments_lexer": "ipython3",
   "version": "3.9.12"
  }
 },
 "nbformat": 4,
 "nbformat_minor": 5
}
